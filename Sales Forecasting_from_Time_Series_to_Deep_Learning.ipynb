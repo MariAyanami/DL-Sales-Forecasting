
{
 "cells": [
  {
   "cell_type": "markdown",
   "metadata": {},
   "source": [
    "## Introduction \n",
    "\n",
    "\n",
    "In any company exists an embedded desire to predict its future revenue and future sales.\n",
    "\n",
    "The basic recipe is: \n",
    "\n",
    "\n",
    "___Collect historical data related to previous sales and use it to predict expected sales.___\n",
    "\n",
    "\n",
    "<span style=\"color: red\"> Add Image From Medium </span>\n",
    "\n",
    "\n",
    "The revolution that took over the world over the last 10 years saw the rise of Deep Learning as the driving force behind all imaginable machine learning benchmarks: computer vision, language and so many others. Recently, one could argue that Deep Learning has restructured the potential future of sales forecasting by allowing models to encode for multiple time series in a single model as well as account for categorical variables. My goal today is: \n",
    "\n",
    "\n",
    "\n",
    "__To walk you through the basic intuitions behind the main concepts and models for sales forecasting from a time-series perspective and discuss what kind of capabilities recent Deep Learning models could bring to the table.__\n",
    "\n",
    "\n",
    "\n",
    "\n",
    "### Reading Suggestions\n",
    "\n",
    "\n",
    "\n",
    "In case you feel like you need to brush up on the basics of sales forecasting and time-series, I recommend these 3 reads:\n",
    "\n",
    "\n",
    "- [Harvard business article](https://hbr.org/1971/07/how-to-choose-the-right-forecasting-technique) on the fundamentals of sales forecasting. \n",
    "- [TDS article by ](https://towardsdatascience.com/the-complete-guide-to-time-series-analysis-and-forecasting-70d476bfe775)  @Marco Peixeiro from on @Towards Data Science (really comprehensive and instructive).\n",
    "\n",
    "- [\"Time Series Forecasting Principles with Amazon Forecast\"](https://d1.awsstatic.com/whitepapers/time-series-forecasting-principles-amazon-forecast.pdf). They do a thorough job of explaining how Sales Forecasting works, as well as what are the challenges and problems one might encounter in the field. \n",
    "\n",
    "\n",
    "\n",
    "\n"
   ]
  },
  {
   "cell_type": "markdown",
   "metadata": {},
   "source": [
    "### The Sales Forecasting Problem\n"
   ]
  },
  {
   "cell_type": "markdown",
   "metadata": {},
   "source": [
    "Sales forecasting is all about using historical data to inform decision making.\n",
    "\n",
    "A simple forecasting cycle looks like this:\n"
   ]
  },
  {
   "cell_type": "markdown",
   "metadata": {},
   "source": [
    "<p>\n",