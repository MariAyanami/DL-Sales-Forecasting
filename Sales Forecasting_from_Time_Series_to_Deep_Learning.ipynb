
{
 "cells": [
  {
   "cell_type": "markdown",
   "metadata": {},
   "source": [
    "## Introduction \n",
    "\n",
    "\n",
    "In any company exists an embedded desire to predict its future revenue and future sales.\n",
    "\n",
    "The basic recipe is: \n",
    "\n",