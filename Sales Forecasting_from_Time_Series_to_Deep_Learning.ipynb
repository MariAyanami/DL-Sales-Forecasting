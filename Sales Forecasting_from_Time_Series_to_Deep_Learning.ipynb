
{
 "cells": [
  {
   "cell_type": "markdown",
   "metadata": {},
   "source": [
    "## Introduction \n",
    "\n",
    "\n",
    "In any company exists an embedded desire to predict its future revenue and future sales.\n",
    "\n",
    "The basic recipe is: \n",
    "\n",
    "\n",
    "___Collect historical data related to previous sales and use it to predict expected sales.___\n",
    "\n",