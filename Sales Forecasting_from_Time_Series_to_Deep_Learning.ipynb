
{
 "cells": [
  {
   "cell_type": "markdown",
   "metadata": {},
   "source": [
    "## Introduction \n",
    "\n",
    "\n",
    "In any company exists an embedded desire to predict its future revenue and future sales.\n",
    "\n",
    "The basic recipe is: \n",
    "\n",
    "\n",
    "___Collect historical data related to previous sales and use it to predict expected sales.___\n",
    "\n",
    "\n",
    "<span style=\"color: red\"> Add Image From Medium </span>\n",
    "\n",
    "\n",
    "The revolution that took over the world over the last 10 years saw the rise of Deep Learning as the driving force behind all imaginable machine learning benchmarks: computer vision, language and so many others. Recently, one could argue that Deep Learning has restructured the potential future of sales forecasting by allowing models to encode for multiple time series in a single model as well as account for categorical variables. My goal today is: \n",
    "\n",
    "\n",
    "\n",
    "__To walk you through the basic intuitions behind the main concepts and models for sales forecasting from a time-series perspective and discuss what kind of capabilities recent Deep Learning models could bring to the table.__\n",
    "\n",
    "\n",
    "\n",
    "\n",
    "### Reading Suggestions\n",
    "\n",
    "\n",
    "\n",
    "In case you feel like you need to brush up on the basics of sales forecasting and time-series, I recommend these 3 reads:\n",
    "\n",
    "\n",
    "- [Harvard business article](https://hbr.org/1971/07/how-to-choose-the-right-forecasting-technique) on the fundamentals of sales forecasting. \n",
    "- [TDS article by ](https://towardsdatascience.com/the-complete-guide-to-time-series-analysis-and-forecasting-70d476bfe775)  @Marco Peixeiro from on @Towards Data Science (really comprehensive and instructive).\n",
    "\n",
    "- [\"Time Series Forecasting Principles with Amazon Forecast\"](https://d1.awsstatic.com/whitepapers/time-series-forecasting-principles-amazon-forecast.pdf). They do a thorough job of explaining how Sales Forecasting works, as well as what are the challenges and problems one might encounter in the field. \n",
    "\n",
    "\n",
    "\n",
    "\n"
   ]
  },
  {
   "cell_type": "markdown",
   "metadata": {},
   "source": [
    "### The Sales Forecasting Problem\n"
   ]
  },
  {
   "cell_type": "markdown",
   "metadata": {},
   "source": [
    "Sales forecasting is all about using historical data to inform decision making.\n",
    "\n",
    "A simple forecasting cycle looks like this:\n"
   ]
  },
  {
   "cell_type": "markdown",
   "metadata": {},
   "source": [
    "<p>\n",
    "    <img src=\"images\\forecasting_cycle.png\"; alt=\"Forecasting cycle\">\n",
    "    \n",
    "</p>\n",
    "\n",
    "<p>\n",
    "    <em>Image by the author</em>\n",
    "    \n",
    "    \n",
    "</p>\n",
    "\n",
    "\n",
    "\n",
    "\n",
    "\n"
   ]
  },
  {
   "cell_type": "markdown",
   "metadata": {},
   "source": [
    "On its core, this is a [time series](https://en.wikipedia.org/wiki/Time_series#:~:text=A%20time%20series%20is%20a,sequence%20of%20discrete%2Dtime%20data.) problem: given some data in time, we want to predict the dynamics of that same data in the future. To do this, we require some trainable model of these dynamics. \n",
    "\n",
    "\n",
    "According to [Amazon's time series forecasting principles](https://d1.awsstatic.com/whitepapers/time-series-forecasting-principles-amazon-forecast.pdf), forecasting is a hard problem for 2 reasons:\n",
    "\n",
    "- Incorporating large volumes of historical data, which can lead to missing important information about the past of the target data dynamics.\n",
    "\n",
    "- Incorporating related yet independent data (holidays/events, locations, marketing promotions)\n",
    "\n",
    "Besides these, one the central aspects of sales forecasting is that accuracy is key:\n",
    "\n",
    "\n",
    "- If forecast is too high it may lead to over-investing and therefore loosing money.\n",
    "- If forecast is too low it may lead to under-investing and therefore loosing opportunity.\n",
    "\n"
   ]
  },
  {
   "cell_type": "markdown",
   "metadata": {},
   "source": [
    "Incorporating exogenous factors like the weather, time and spatial location could be beneficial for a prediction. In this [medium piece](https://medium.com/swlh/how-to-apply-machine-learning-in-demand-forecasting-for-retail-b781957e5919) by @Liudmyla Taranenko, she mentions a great example discussing how on-demand ride services like UBER, Lyft or Didi Chuxing must take into account factors like weather conditions (like humidity and temperature), time of the day or day of the week to do its demand forecasting. Therefore, good forecasting models should have mechanisms that enable them to account for such factors.\n",
    "\n",
    "\n",
    "\n",
    "\n",
    "In sum, so what do we know so far? \n",
    "\n",
    "- We know that forecasting is a hard problem where accuracy really matters.\n",
    "- We know that there are exogenous factors that come into play that are hard to account for.\n",
    "\n",
    "What we don't know yet is:\n",
    "- What are the traditional forecasting methods and why they might succumb to these challenges.\n",
    "- How is it that deep learning methods could help, and what are some of the prospects to replace traditional models.\n",
    "\n",
    "\n",
    "\n"
   ]
  },
  {
   "cell_type": "markdown",
   "metadata": {},
   "source": [
    "### Types of Forecasting Models\n",
    "\n",
    "According to this [article](https://hbr.org/1971/07/how-to-choose-the-right-forecasting-technique) featured in the harvard business review, there are three types of Forecasting techniques:\n",
    "\n",
    "\n",
    "\n",
    "- __Qualitative techniques__: usually involve expert opinion or information about special events.\n",
    "\n",
    "\n",
    "- __Time series analysis and projection__: involve historical data,finding structure in the dynamics of the data like cyclical patterns, trends and growth rates.\n",
    "\n",
    "\n",
    "    \n",
    "- __Causal models__: these models involve the relevant causal relationships that may include pipeline considerations like inventories or market survey information. They can incorporate the results of a time series analysis.\n"
   ]
  },
  {
   "cell_type": "markdown",
   "metadata": {},
   "source": [
    "We will focus on the time series analysis approach which has been the driving force behind traditional forecasting methods and, it can give a comprehensive layout of the forecasting landscape.\n"
   ]
  },
  {
   "cell_type": "markdown",
   "metadata": {},
   "source": [
    "### Time Series Approach\n",
    "\n",
    "\n",
    "Time series is a sequence of data points taken at successive, equally-spaced points in time that can be used to predict the future. \n",
    "A Time Series analysis model involves using historical data to forecast the future. It looks in the dataset for features such as trends, cyclical fluctuations, seasonality, and behavioral patterns.\n",
    "\n",
    "\n",
    "\n",
    "The three key general ideas that are fundamental to consider, when dealing with a sales forecasting problem tackled from a time series perspective, are:\n",
    "\n",
    "\n",
    "- Repeating patterns \n",
    "- Static patterns \n",
    "- Trends \n",
    "\n",
    "Now we'll look into each of these factors and write code that will allow us to understand them intuitively. After that, we will see what modern deep learning models could bring to the table. \n"
   ]
  },
  {
   "cell_type": "markdown",
   "metadata": {},
   "source": [
    "#### Repeating Patterns\n",
    "\n",
    "When looking at a time series data, one element that we are looking for is a pattern that repeats in time. One key concept related to this idea is [__autocorrelation__](https://en.wikipedia.org/wiki/Autocorrelation#:~:text=Autocorrelation%2C%20also%20known%20as%20serial,the%20time%20lag%20between%20them.). \n",
    "\n",
    "\n",
    "Intuitively, ___autocorrelation corresponds to the similarity between observations as a function of the time lag between them.___\n",
    "\n",
    "What does that mean? It refers to the idea of finding structure on the dynamics of the observations in a time-series by looking at the correlation between observations with themselves (i.e. \"auto\") at different time points. It is one of the main tools for finding repeating patterns.\n",
    "\n",
    "\n",
    "\n",
    "To clarify this, let's take a look at the publicly available [weather dataset from kaggle](https://www.kaggle.com/muthuj7/weather-dataset) and plot both its raw temperature data as well as an autocorrelation plot.\n",
    "\n",
    "\n",
    "The steps will be:\n",
    "- Load our dataset\n",
    "- Clean the dates column\n",
    "- Plot raw weather data\n",
    "- Plot an autocorrelation plot using ```statsmodels```\n"
   ]
  },
  {